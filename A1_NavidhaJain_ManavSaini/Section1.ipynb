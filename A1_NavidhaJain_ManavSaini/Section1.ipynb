{
  "nbformat": 4,
  "nbformat_minor": 0,
  "metadata": {
    "colab": {
      "provenance": [],
      "collapsed_sections": []
    },
    "kernelspec": {
      "name": "python3",
      "display_name": "Python 3"
    },
    "language_info": {
      "name": "python"
    }
  },
  "cells": [
    {
      "cell_type": "code",
      "source": [
        "\n",
        "import pandas as pd\n",
        "import re\n",
        "\n",
        "pos=[]\n",
        "neg=[]\n",
        "total_sen=[]\n",
        "tweets=[]\n",
        "date_str=\"\""
      ],
      "metadata": {
        "id": "2cDYyl8FLlIN"
      },
      "execution_count": null,
      "outputs": []
    },
    {
      "cell_type": "code",
      "source": [
        "dataset=pd.read_csv(\"A1_dataset.csv\")\n",
        "for i, row in dataset.iterrows():\n",
        "  tweets.append(row[\"TEXT\"])\n",
        "  date_str=row[\"DATE_TIME\"].strip() +\" \" + date_str\n",
        "  if row[\"LABEL\"]==1:\n",
        "    pos.append(row[\"TEXT\"])\n",
        "  else:\n",
        "    neg.append(row[\"TEXT\"])"
      ],
      "metadata": {
        "id": "hjn1u7E8y0BK",
        "colab": {
          "base_uri": "https://localhost:8080/",
          "height": 380
        },
        "outputId": "6e6ede5e-ba68-4491-c8a5-bfdf537057f2"
      },
      "execution_count": null,
      "outputs": [
        {
          "output_type": "error",
          "ename": "FileNotFoundError",
          "evalue": "ignored",
          "traceback": [
            "\u001b[0;31m---------------------------------------------------------------------------\u001b[0m",
            "\u001b[0;31mFileNotFoundError\u001b[0m                         Traceback (most recent call last)",
            "\u001b[0;32m<ipython-input-4-c329b9430110>\u001b[0m in \u001b[0;36m<module>\u001b[0;34m\u001b[0m\n\u001b[0;32m----> 1\u001b[0;31m \u001b[0mdataset\u001b[0m\u001b[0;34m=\u001b[0m\u001b[0mpd\u001b[0m\u001b[0;34m.\u001b[0m\u001b[0mread_csv\u001b[0m\u001b[0;34m(\u001b[0m\u001b[0;34m\"A1_dataset.csv\"\u001b[0m\u001b[0;34m)\u001b[0m\u001b[0;34m\u001b[0m\u001b[0;34m\u001b[0m\u001b[0m\n\u001b[0m\u001b[1;32m      2\u001b[0m \u001b[0;32mfor\u001b[0m \u001b[0mi\u001b[0m\u001b[0;34m,\u001b[0m \u001b[0mrow\u001b[0m \u001b[0;32min\u001b[0m \u001b[0mdataset\u001b[0m\u001b[0;34m.\u001b[0m\u001b[0miterrows\u001b[0m\u001b[0;34m(\u001b[0m\u001b[0;34m)\u001b[0m\u001b[0;34m:\u001b[0m\u001b[0;34m\u001b[0m\u001b[0;34m\u001b[0m\u001b[0m\n\u001b[1;32m      3\u001b[0m   \u001b[0mtweets\u001b[0m\u001b[0;34m.\u001b[0m\u001b[0mappend\u001b[0m\u001b[0;34m(\u001b[0m\u001b[0mrow\u001b[0m\u001b[0;34m[\u001b[0m\u001b[0;34m\"TEXT\"\u001b[0m\u001b[0;34m]\u001b[0m\u001b[0;34m)\u001b[0m\u001b[0;34m\u001b[0m\u001b[0;34m\u001b[0m\u001b[0m\n\u001b[1;32m      4\u001b[0m   \u001b[0mdate_str\u001b[0m\u001b[0;34m=\u001b[0m\u001b[0mrow\u001b[0m\u001b[0;34m[\u001b[0m\u001b[0;34m\"DATE_TIME\"\u001b[0m\u001b[0;34m]\u001b[0m\u001b[0;34m.\u001b[0m\u001b[0mstrip\u001b[0m\u001b[0;34m(\u001b[0m\u001b[0;34m)\u001b[0m \u001b[0;34m+\u001b[0m\u001b[0;34m\" \"\u001b[0m \u001b[0;34m+\u001b[0m \u001b[0mdate_str\u001b[0m\u001b[0;34m\u001b[0m\u001b[0;34m\u001b[0m\u001b[0m\n\u001b[1;32m      5\u001b[0m   \u001b[0;32mif\u001b[0m \u001b[0mrow\u001b[0m\u001b[0;34m[\u001b[0m\u001b[0;34m\"LABEL\"\u001b[0m\u001b[0;34m]\u001b[0m\u001b[0;34m==\u001b[0m\u001b[0;36m1\u001b[0m\u001b[0;34m:\u001b[0m\u001b[0;34m\u001b[0m\u001b[0;34m\u001b[0m\u001b[0m\n",
            "\u001b[0;32m/usr/local/lib/python3.7/dist-packages/pandas/util/_decorators.py\u001b[0m in \u001b[0;36mwrapper\u001b[0;34m(*args, **kwargs)\u001b[0m\n\u001b[1;32m    309\u001b[0m                     \u001b[0mstacklevel\u001b[0m\u001b[0;34m=\u001b[0m\u001b[0mstacklevel\u001b[0m\u001b[0;34m,\u001b[0m\u001b[0;34m\u001b[0m\u001b[0;34m\u001b[0m\u001b[0m\n\u001b[1;32m    310\u001b[0m                 )\n\u001b[0;32m--> 311\u001b[0;31m             \u001b[0;32mreturn\u001b[0m \u001b[0mfunc\u001b[0m\u001b[0;34m(\u001b[0m\u001b[0;34m*\u001b[0m\u001b[0margs\u001b[0m\u001b[0;34m,\u001b[0m \u001b[0;34m**\u001b[0m\u001b[0mkwargs\u001b[0m\u001b[0;34m)\u001b[0m\u001b[0;34m\u001b[0m\u001b[0;34m\u001b[0m\u001b[0m\n\u001b[0m\u001b[1;32m    312\u001b[0m \u001b[0;34m\u001b[0m\u001b[0m\n\u001b[1;32m    313\u001b[0m         \u001b[0;32mreturn\u001b[0m \u001b[0mwrapper\u001b[0m\u001b[0;34m\u001b[0m\u001b[0;34m\u001b[0m\u001b[0m\n",
            "\u001b[0;32m/usr/local/lib/python3.7/dist-packages/pandas/io/parsers/readers.py\u001b[0m in \u001b[0;36mread_csv\u001b[0;34m(filepath_or_buffer, sep, delimiter, header, names, index_col, usecols, squeeze, prefix, mangle_dupe_cols, dtype, engine, converters, true_values, false_values, skipinitialspace, skiprows, skipfooter, nrows, na_values, keep_default_na, na_filter, verbose, skip_blank_lines, parse_dates, infer_datetime_format, keep_date_col, date_parser, dayfirst, cache_dates, iterator, chunksize, compression, thousands, decimal, lineterminator, quotechar, quoting, doublequote, escapechar, comment, encoding, encoding_errors, dialect, error_bad_lines, warn_bad_lines, on_bad_lines, delim_whitespace, low_memory, memory_map, float_precision, storage_options)\u001b[0m\n\u001b[1;32m    584\u001b[0m     \u001b[0mkwds\u001b[0m\u001b[0;34m.\u001b[0m\u001b[0mupdate\u001b[0m\u001b[0;34m(\u001b[0m\u001b[0mkwds_defaults\u001b[0m\u001b[0;34m)\u001b[0m\u001b[0;34m\u001b[0m\u001b[0;34m\u001b[0m\u001b[0m\n\u001b[1;32m    585\u001b[0m \u001b[0;34m\u001b[0m\u001b[0m\n\u001b[0;32m--> 586\u001b[0;31m     \u001b[0;32mreturn\u001b[0m \u001b[0m_read\u001b[0m\u001b[0;34m(\u001b[0m\u001b[0mfilepath_or_buffer\u001b[0m\u001b[0;34m,\u001b[0m \u001b[0mkwds\u001b[0m\u001b[0;34m)\u001b[0m\u001b[0;34m\u001b[0m\u001b[0;34m\u001b[0m\u001b[0m\n\u001b[0m\u001b[1;32m    587\u001b[0m \u001b[0;34m\u001b[0m\u001b[0m\n\u001b[1;32m    588\u001b[0m \u001b[0;34m\u001b[0m\u001b[0m\n",
            "\u001b[0;32m/usr/local/lib/python3.7/dist-packages/pandas/io/parsers/readers.py\u001b[0m in \u001b[0;36m_read\u001b[0;34m(filepath_or_buffer, kwds)\u001b[0m\n\u001b[1;32m    480\u001b[0m \u001b[0;34m\u001b[0m\u001b[0m\n\u001b[1;32m    481\u001b[0m     \u001b[0;31m# Create the parser.\u001b[0m\u001b[0;34m\u001b[0m\u001b[0;34m\u001b[0m\u001b[0;34m\u001b[0m\u001b[0m\n\u001b[0;32m--> 482\u001b[0;31m     \u001b[0mparser\u001b[0m \u001b[0;34m=\u001b[0m \u001b[0mTextFileReader\u001b[0m\u001b[0;34m(\u001b[0m\u001b[0mfilepath_or_buffer\u001b[0m\u001b[0;34m,\u001b[0m \u001b[0;34m**\u001b[0m\u001b[0mkwds\u001b[0m\u001b[0;34m)\u001b[0m\u001b[0;34m\u001b[0m\u001b[0;34m\u001b[0m\u001b[0m\n\u001b[0m\u001b[1;32m    483\u001b[0m \u001b[0;34m\u001b[0m\u001b[0m\n\u001b[1;32m    484\u001b[0m     \u001b[0;32mif\u001b[0m \u001b[0mchunksize\u001b[0m \u001b[0;32mor\u001b[0m \u001b[0miterator\u001b[0m\u001b[0;34m:\u001b[0m\u001b[0;34m\u001b[0m\u001b[0;34m\u001b[0m\u001b[0m\n",
            "\u001b[0;32m/usr/local/lib/python3.7/dist-packages/pandas/io/parsers/readers.py\u001b[0m in \u001b[0;36m__init__\u001b[0;34m(self, f, engine, **kwds)\u001b[0m\n\u001b[1;32m    809\u001b[0m             \u001b[0mself\u001b[0m\u001b[0;34m.\u001b[0m\u001b[0moptions\u001b[0m\u001b[0;34m[\u001b[0m\u001b[0;34m\"has_index_names\"\u001b[0m\u001b[0;34m]\u001b[0m \u001b[0;34m=\u001b[0m \u001b[0mkwds\u001b[0m\u001b[0;34m[\u001b[0m\u001b[0;34m\"has_index_names\"\u001b[0m\u001b[0;34m]\u001b[0m\u001b[0;34m\u001b[0m\u001b[0;34m\u001b[0m\u001b[0m\n\u001b[1;32m    810\u001b[0m \u001b[0;34m\u001b[0m\u001b[0m\n\u001b[0;32m--> 811\u001b[0;31m         \u001b[0mself\u001b[0m\u001b[0;34m.\u001b[0m\u001b[0m_engine\u001b[0m \u001b[0;34m=\u001b[0m \u001b[0mself\u001b[0m\u001b[0;34m.\u001b[0m\u001b[0m_make_engine\u001b[0m\u001b[0;34m(\u001b[0m\u001b[0mself\u001b[0m\u001b[0;34m.\u001b[0m\u001b[0mengine\u001b[0m\u001b[0;34m)\u001b[0m\u001b[0;34m\u001b[0m\u001b[0;34m\u001b[0m\u001b[0m\n\u001b[0m\u001b[1;32m    812\u001b[0m \u001b[0;34m\u001b[0m\u001b[0m\n\u001b[1;32m    813\u001b[0m     \u001b[0;32mdef\u001b[0m \u001b[0mclose\u001b[0m\u001b[0;34m(\u001b[0m\u001b[0mself\u001b[0m\u001b[0;34m)\u001b[0m\u001b[0;34m:\u001b[0m\u001b[0;34m\u001b[0m\u001b[0;34m\u001b[0m\u001b[0m\n",
            "\u001b[0;32m/usr/local/lib/python3.7/dist-packages/pandas/io/parsers/readers.py\u001b[0m in \u001b[0;36m_make_engine\u001b[0;34m(self, engine)\u001b[0m\n\u001b[1;32m   1038\u001b[0m             )\n\u001b[1;32m   1039\u001b[0m         \u001b[0;31m# error: Too many arguments for \"ParserBase\"\u001b[0m\u001b[0;34m\u001b[0m\u001b[0;34m\u001b[0m\u001b[0;34m\u001b[0m\u001b[0m\n\u001b[0;32m-> 1040\u001b[0;31m         \u001b[0;32mreturn\u001b[0m \u001b[0mmapping\u001b[0m\u001b[0;34m[\u001b[0m\u001b[0mengine\u001b[0m\u001b[0;34m]\u001b[0m\u001b[0;34m(\u001b[0m\u001b[0mself\u001b[0m\u001b[0;34m.\u001b[0m\u001b[0mf\u001b[0m\u001b[0;34m,\u001b[0m \u001b[0;34m**\u001b[0m\u001b[0mself\u001b[0m\u001b[0;34m.\u001b[0m\u001b[0moptions\u001b[0m\u001b[0;34m)\u001b[0m  \u001b[0;31m# type: ignore[call-arg]\u001b[0m\u001b[0;34m\u001b[0m\u001b[0;34m\u001b[0m\u001b[0m\n\u001b[0m\u001b[1;32m   1041\u001b[0m \u001b[0;34m\u001b[0m\u001b[0m\n\u001b[1;32m   1042\u001b[0m     \u001b[0;32mdef\u001b[0m \u001b[0m_failover_to_python\u001b[0m\u001b[0;34m(\u001b[0m\u001b[0mself\u001b[0m\u001b[0;34m)\u001b[0m\u001b[0;34m:\u001b[0m\u001b[0;34m\u001b[0m\u001b[0;34m\u001b[0m\u001b[0m\n",
            "\u001b[0;32m/usr/local/lib/python3.7/dist-packages/pandas/io/parsers/c_parser_wrapper.py\u001b[0m in \u001b[0;36m__init__\u001b[0;34m(self, src, **kwds)\u001b[0m\n\u001b[1;32m     49\u001b[0m \u001b[0;34m\u001b[0m\u001b[0m\n\u001b[1;32m     50\u001b[0m         \u001b[0;31m# open handles\u001b[0m\u001b[0;34m\u001b[0m\u001b[0;34m\u001b[0m\u001b[0;34m\u001b[0m\u001b[0m\n\u001b[0;32m---> 51\u001b[0;31m         \u001b[0mself\u001b[0m\u001b[0;34m.\u001b[0m\u001b[0m_open_handles\u001b[0m\u001b[0;34m(\u001b[0m\u001b[0msrc\u001b[0m\u001b[0;34m,\u001b[0m \u001b[0mkwds\u001b[0m\u001b[0;34m)\u001b[0m\u001b[0;34m\u001b[0m\u001b[0;34m\u001b[0m\u001b[0m\n\u001b[0m\u001b[1;32m     52\u001b[0m         \u001b[0;32massert\u001b[0m \u001b[0mself\u001b[0m\u001b[0;34m.\u001b[0m\u001b[0mhandles\u001b[0m \u001b[0;32mis\u001b[0m \u001b[0;32mnot\u001b[0m \u001b[0;32mNone\u001b[0m\u001b[0;34m\u001b[0m\u001b[0;34m\u001b[0m\u001b[0m\n\u001b[1;32m     53\u001b[0m \u001b[0;34m\u001b[0m\u001b[0m\n",
            "\u001b[0;32m/usr/local/lib/python3.7/dist-packages/pandas/io/parsers/base_parser.py\u001b[0m in \u001b[0;36m_open_handles\u001b[0;34m(self, src, kwds)\u001b[0m\n\u001b[1;32m    227\u001b[0m             \u001b[0mmemory_map\u001b[0m\u001b[0;34m=\u001b[0m\u001b[0mkwds\u001b[0m\u001b[0;34m.\u001b[0m\u001b[0mget\u001b[0m\u001b[0;34m(\u001b[0m\u001b[0;34m\"memory_map\"\u001b[0m\u001b[0;34m,\u001b[0m \u001b[0;32mFalse\u001b[0m\u001b[0;34m)\u001b[0m\u001b[0;34m,\u001b[0m\u001b[0;34m\u001b[0m\u001b[0;34m\u001b[0m\u001b[0m\n\u001b[1;32m    228\u001b[0m             \u001b[0mstorage_options\u001b[0m\u001b[0;34m=\u001b[0m\u001b[0mkwds\u001b[0m\u001b[0;34m.\u001b[0m\u001b[0mget\u001b[0m\u001b[0;34m(\u001b[0m\u001b[0;34m\"storage_options\"\u001b[0m\u001b[0;34m,\u001b[0m \u001b[0;32mNone\u001b[0m\u001b[0;34m)\u001b[0m\u001b[0;34m,\u001b[0m\u001b[0;34m\u001b[0m\u001b[0;34m\u001b[0m\u001b[0m\n\u001b[0;32m--> 229\u001b[0;31m             \u001b[0merrors\u001b[0m\u001b[0;34m=\u001b[0m\u001b[0mkwds\u001b[0m\u001b[0;34m.\u001b[0m\u001b[0mget\u001b[0m\u001b[0;34m(\u001b[0m\u001b[0;34m\"encoding_errors\"\u001b[0m\u001b[0;34m,\u001b[0m \u001b[0;34m\"strict\"\u001b[0m\u001b[0;34m)\u001b[0m\u001b[0;34m,\u001b[0m\u001b[0;34m\u001b[0m\u001b[0;34m\u001b[0m\u001b[0m\n\u001b[0m\u001b[1;32m    230\u001b[0m         )\n\u001b[1;32m    231\u001b[0m \u001b[0;34m\u001b[0m\u001b[0m\n",
            "\u001b[0;32m/usr/local/lib/python3.7/dist-packages/pandas/io/common.py\u001b[0m in \u001b[0;36mget_handle\u001b[0;34m(path_or_buf, mode, encoding, compression, memory_map, is_text, errors, storage_options)\u001b[0m\n\u001b[1;32m    705\u001b[0m                 \u001b[0mencoding\u001b[0m\u001b[0;34m=\u001b[0m\u001b[0mioargs\u001b[0m\u001b[0;34m.\u001b[0m\u001b[0mencoding\u001b[0m\u001b[0;34m,\u001b[0m\u001b[0;34m\u001b[0m\u001b[0;34m\u001b[0m\u001b[0m\n\u001b[1;32m    706\u001b[0m                 \u001b[0merrors\u001b[0m\u001b[0;34m=\u001b[0m\u001b[0merrors\u001b[0m\u001b[0;34m,\u001b[0m\u001b[0;34m\u001b[0m\u001b[0;34m\u001b[0m\u001b[0m\n\u001b[0;32m--> 707\u001b[0;31m                 \u001b[0mnewline\u001b[0m\u001b[0;34m=\u001b[0m\u001b[0;34m\"\"\u001b[0m\u001b[0;34m,\u001b[0m\u001b[0;34m\u001b[0m\u001b[0;34m\u001b[0m\u001b[0m\n\u001b[0m\u001b[1;32m    708\u001b[0m             )\n\u001b[1;32m    709\u001b[0m         \u001b[0;32melse\u001b[0m\u001b[0;34m:\u001b[0m\u001b[0;34m\u001b[0m\u001b[0;34m\u001b[0m\u001b[0m\n",
            "\u001b[0;31mFileNotFoundError\u001b[0m: [Errno 2] No such file or directory: 'A1_dataset.csv'"
          ]
        }
      ]
    },
    {
      "cell_type": "code",
      "execution_count": null,
      "metadata": {
        "colab": {
          "base_uri": "https://localhost:8080/"
        },
        "id": "vHU8SaYP5JjG",
        "outputId": "c51d0d8d-b2d3-41de-e8e0-97a530f7954c"
      },
      "outputs": [
        {
          "output_type": "stream",
          "name": "stdout",
          "text": [
            "average number of sentences is  3793.0\n"
          ]
        }
      ],
      "source": [
        "#sentences\n",
        "#(?<![A-Z][a-z]\\.)\n",
        "pos_sen=0\n",
        "neg_sen=0\n",
        "\n",
        "def break_sen(text):\n",
        "  global total_sen\n",
        "  xb = re.split(\"[?!]\\w+|(?<!\\w\\.\\w.)(?<=\\.|\\?|!)\\s\", text) #negative look behind, negative look behind, positive look behind\n",
        "  x=[i for i in xb if i]\n",
        "  total_sen= x + total_sen\n",
        "  return len(x)\n",
        "\n",
        "#text1=\" mr. aww.. watching the MV 1.5 of!a!!! White h.h horse by ?? Taylor Swift. \"\n",
        "for p in pos:\n",
        "  pos_sen= break_sen(p) + pos_sen\n",
        "\n",
        "for n in neg:\n",
        "  neg_sen= break_sen(n) + neg_sen\n",
        "\n",
        "avg_sen=(pos_sen+neg_sen)/2\n",
        "print(\"average number of sentences is \", avg_sen)\n"
      ]
    },
    {
      "cell_type": "code",
      "source": [
        "#tokens\n",
        "\n",
        "pos_tok=0\n",
        "neg_tok=0\n",
        "total_tok=[]\n",
        "\n",
        "def break_tok(text):\n",
        "  global total_tok\n",
        "  x2=re.split(\"\\s\", text)\n",
        "  for a in x2:\n",
        "    # array of spec chars\n",
        "    #+ re.findall(\"([Mm]r|[Mm]rs|[Mm]r|[Dd]r)\\.\", a)\n",
        "    x3=re.findall(\"[\\[@\\-!#$%^&*()\\.<>?}{~:;\\]]\", a) + re.findall(\"[a-zA-Z]+|\\d+\", a) \n",
        "    if x3: #if x3 is not blank\n",
        "      x2.remove(a)\n",
        "      for b in x3: \n",
        "        #if b not in x2: #for singleton chars\n",
        "        x2=x2+[b]\n",
        "\n",
        "  x2 = [i for i in x2 if i]\n",
        "  total_tok=total_tok+x2\n",
        "  return len(x2)\n",
        "\n",
        "for p in pos:\n",
        "  pos_tok= break_tok(p) + pos_tok\n",
        "\n",
        "for n in neg:\n",
        "  neg_tok= break_tok(n) + neg_tok\n",
        "\n",
        "avg_tok=(pos_tok+neg_tok)/2\n",
        "\n",
        "#text2=\"Think something [ is 785u #@ wrong 1.5 at UK2 - Live Support mr. offline &amp; email is taking hours to come through \"\n",
        "\n",
        "print(\"average number of tokens is \", avg_tok)"
      ],
      "metadata": {
        "id": "6sWvicJlnSVi",
        "colab": {
          "base_uri": "https://localhost:8080/"
        },
        "outputId": "27e87d22-440d-4dc0-f9b1-a444d4db7c0e"
      },
      "execution_count": null,
      "outputs": [
        {
          "output_type": "stream",
          "name": "stdout",
          "text": [
            "average number of tokens is  35762.0\n"
          ]
        }
      ]
    },
    {
      "cell_type": "code",
      "source": [
        "#consonants and vowels\n",
        "#text3=\"aww reee ujbhbk mbeciebc Ajiebxid Mnidbiedb AJ ONE JINW ojbdhxb\"\n",
        "cons=0\n",
        "vowels=0\n",
        "\n",
        "def count_cons(text):\n",
        "  y1=re.split(\"\\s\", text)\n",
        "  anscons=[]\n",
        "  for a in y1:\n",
        "    y3=re.findall(\"^([b-df-hj-np-tv-zB-DF-HJ-NP-TV-Z].*)\", a)\n",
        "    #print(y3)\n",
        "    if y3:\n",
        "      anscons=anscons+y3\n",
        "  \n",
        "  return len(anscons)\n",
        "\n",
        "def count_vowels(text):\n",
        "  y1=re.split(\"\\s\", text)\n",
        "  ansvowel=[]\n",
        "  for a in y1:\n",
        "    y2=re.findall(\"^([aeiouAEIOU].*)\", a)\n",
        "    if y2:\n",
        "      ansvowel=ansvowel+y2\n",
        "\n",
        "  return len(ansvowel)\n",
        "\n",
        "for t in tweets:\n",
        "  cons=cons+count_cons(t)\n",
        "  vowels=vowels+count_vowels(t)\n",
        "\n",
        "print(\"total number of words starting with consonants is: \", cons)\n",
        "print(\"total number of words starting with vowels is: \", vowels)\n",
        "\n",
        "#print(ansvowel)\n",
        "\n",
        "# anscons=[]\n",
        "# #print(len(cons))\n",
        "# for a in y1:\n",
        "#   y3=re.findall(\"^([b-df-hj-np-tv-zB-DF-HJ-NP-TV-Z].*)\", a)\n",
        "#   #print(y3)\n",
        "#   if y3:\n",
        "#    anscons=anscons+y3\n",
        "\n",
        "# print(anscons)"
      ],
      "metadata": {
        "colab": {
          "base_uri": "https://localhost:8080/"
        },
        "id": "hWR7jyLB324a",
        "outputId": "382bacb5-e77d-420c-d114-dcb6622217b6"
      },
      "execution_count": null,
      "outputs": [
        {
          "output_type": "stream",
          "name": "stdout",
          "text": [
            "total number of words starting with consonants is:  38741\n",
            "total number of words starting with vowels is:  13445\n"
          ]
        }
      ]
    },
    {
      "cell_type": "code",
      "source": [
        "#number of unique tokens lower and uppercase\n",
        "#\n",
        "\n",
        "def rev_low(match_obj):\n",
        "    element = match_obj.group(0)\n",
        "    return element.lower()\n",
        "\n",
        "#arr1=['something', 'Think', '[', 'is', '785', 'THROUGH' , 'u', '#', '@', '.', '1', '5', 'wrong', 'at', 'UK', '2', '-', 'Live', 'Support', '.', 'mr', 'offline', '&', ';', 'amp', 'email', 'is', 'taking', 'hours', 'to', 'come', 'through']\n",
        "before={}\n",
        "after={}\n",
        "for a1 in total_tok:\n",
        "  if a1 not in before:\n",
        "    before[a1]=1\n",
        "  else:\n",
        "    before[a1]=before[a1]+1\n",
        "\n",
        "#print(before)\n",
        "\n",
        "for a2 in total_tok:\n",
        "  if a2.isalpha():\n",
        "    newtoken=re.sub(r\"[a-zA-Z]\",rev_low, a2)\n",
        "  else:\n",
        "    newtoken=a2;\n",
        "  #print(newtoken)\n",
        "  if newtoken not in after:\n",
        "    after[newtoken]=1\n",
        "  else:\n",
        "    after[newtoken]=after[newtoken]+1\n",
        "\n",
        "#print(after)\n",
        "print(\"number of unique tokens before lowercasing is: \", len(before))\n",
        "print(\"number of unique tokens after lowercasing is: \", len(after))"
      ],
      "metadata": {
        "colab": {
          "base_uri": "https://localhost:8080/"
        },
        "id": "K-IxvMHnNcaW",
        "outputId": "fe38f808-5593-4553-80dd-d27ba25e41fe"
      },
      "execution_count": null,
      "outputs": [
        {
          "output_type": "stream",
          "name": "stdout",
          "text": [
            "number of unique tokens before lowercasing is:  12280\n",
            "number of unique tokens after lowercasing is:  10615\n"
          ]
        }
      ]
    },
    {
      "cell_type": "code",
      "source": [
        "#usernames\n",
        "#text4=\"@LittleLisa69 @Hiya  I'll be out @from about 10 - BUT @hoping that mobile tweets is set up today so may drop a few as I go around \"\n",
        "total_usernames=[]\n",
        "\n",
        "def usernames(text):\n",
        "  global total_usernames\n",
        "  x4=re.findall(\"@\\w+\", text)\n",
        "  total_usernames= total_usernames +x4\n",
        "\n",
        "for t in tweets:\n",
        "  usernames(t)\n",
        "\n",
        "print(\"total usernames are:\")\n",
        "print(total_usernames)\n",
        "print(\"total number of usernames is: \", len(total_usernames))"
      ],
      "metadata": {
        "colab": {
          "base_uri": "https://localhost:8080/"
        },
        "id": "qn7WdDkTQ78d",
        "outputId": "e27b15f4-1ecd-4d53-c2ee-ba022b0078f2"
      },
      "execution_count": null,
      "outputs": [
        {
          "output_type": "stream",
          "name": "stdout",
          "text": [
            "total usernames are:\n",
            "['@awaisnaseer', '@Marama', '@gfalcone601', '@mrstessyman', '@GetMeVideo', '@tb78', '@sokendrakouture', '@RealDeal32', '@yoginifoodie', '@mileycyrus', '@flyingbolt', '@SCTunstall', '@digitallearnin', '@IHauntWizards', '@Luke', '@buckhollywood', '@soycamo', '@Liverpool_TX', '@alix_says', '@domkoenig', '@mykiaisosm', '@Cyberela', '@Sally_That_Girl', '@spencerpratt', '@marginatasnaily', '@Bossmobb', '@NewerDeal', '@meggles89', '@ferrite', '@cmrush', '@nachojohnny', '@teambudd1', '@karon', '@IngaDurgin', '@OfficialAS', '@mrskutcher', '@EastCoastGamblr', '@mitchelmusso', '@nessie_111', '@The_Gov', '@nakulshenoy', '@jeddimkins', '@DannyMcEvoy', '@uyennguyen_', '@Peace_P', '@markvanbaale', '@Courtney_182', '@DavidArchie', '@Smithycurt', '@Fashionsourcing', '@alexispratsides', '@chuckiem', '@MicheleKnight', '@jacdo', '@Dj_SportsChick', '@johnny_trouble', '@HisFitness', '@AmazingPhil', '@Wendym00n', '@nathalichristy', '@MATTHARDYBRAND', '@MaryJoRs', '@bedoggtde', '@omerrr', '@mommo9000', '@SupaSash11', '@MAYAHZONFIYA', '@BabyBree96', '@egoodlett', '@angelajames', '@David_Henrie', '@rafaelvandyke', '@rainbowsleeve', '@ChrisCavs', '@shaundiviney', '@stephenfry', '@pinkkpaiige12', '@BrettKloesel', '@zate', '@edlee', '@laurenbotzspons', '@tommcfly', '@dougiemcfly', '@dannymcfly', '@mcflyharry', '@DonnieWahlberg', '@softandpoofyone', '@RealKidPoker', '@twishmay', '@TheRoundDiet', '@romaineami', '@rayamartin', '@Joenid', '@Affan', '@mahika', '@calvinharris', '@jazzyfizza', '@chrisworthy', '@kevridesthecab', '@DsBabyGirl', '@allergist', '@johnpapa', '@writeplayrepeat', '@crunchpow', '@HautePersian', '@MrBenRubery', '@LamarLee', '@traceyfalk', '@shellrawlins', '@TheRealJordin', '@pickassoreborn', '@poetrysue', '@stephenfry', '@musewire', '@LittleLisa69', '@busydiscoball', '@rosaliiinda', '@diamondblvd', '@courtney319', '@ChicagoLatina80', '@Mr_Marty', '@sj32', '@tommcfly', '@caribouboy', '@gavin8', '@frommystudio', '@DHughesy', '@kristenstewart9', '@linux_nut', '@gkarageorge', '@DelbertShoopman', '@Harkaway', '@WelshDrew', '@pirrofina', '@ShannynB', '@DufalBagEnt', '@drewie123', '@cultureshockmag', '@colinmunroe', '@waledc', '@DavidArchie', '@MatchesMalone', '@dianalogs', '@Gailporter', '@LaniiBlunts', '@bruxedo', '@miiikeo', '@windy6', '@KathyBuckworth', '@MaryLandrum', '@tiiiink', '@tonycarrera', '@jonasbrothers', '@peterfacinelli', '@microgeist', '@djtracyyoung', '@djannalyze', '@shamara99', '@theRoose', '@bigbadbob75', '@LowcountryBBQ', '@kikuuu', '@mcflymusic', '@KatherineLunt', '@HMXCasey', '@Chantalalalaxo', '@Yasmimmm', '@Fejennings', '@nicmoneymil', '@kadi707', '@lizlove_', '@thatchickleelee', '@prinzita', '@maddow', '@mfgreer', '@Jennybeeean', '@hollienicole', '@KatieP2008', '@teenhearts', '@katgkionis', '@jakesonaplane', '@fabuleuxdestin', '@FrankMillar', '@mishok13', '@tashadhanraj', '@KING617', '@em26miles', '@smoshian', '@epiphanygirl', '@Yvette_Syversen', '@thatiusstatic', '@jelly1996', '@Sexyjoy386', '@smileytee', '@deadlyseagal', '@thekeenanator', '@Lemlina', '@jithinkr', '@MsUndrstood', '@jtchan83', '@honorsociety', '@Zombie_Claire', '@annzoo', '@kidghost_', '@choley', '@mandytronic', '@legendaryswag', '@Frichii', '@lovatodd', '@keithbooe', '@LiliCosic', '@rynoceros', '@iheartscuttle', '@p_87', '@y0manchinggg', '@keithnolan', '@chopsuey2e', '@alexparr', '@christex', '@anai_mrsarm', '@FestivalLights', '@unfolder', '@predschickidee', '@KingGimini', '@salisburydowns', '@ChelRo', '@MoniqueMay', '@taylorswift13', '@aafreen', '@shaaqt', '@angelaisawesome', '@MuscleNerd', '@gemmak500', '@bdawgsc', '@kpmarie', '@rees397', '@mothlights', '@JonathanRKnight', '@Helena210', '@joffhopkins', '@Kelly_StrayCat', '@ShayyyG', '@conwizzle', '@1capplegate', '@francheska28', '@staaceeyy', '@flo494', '@maddlepaddle', '@MiriamCheah', '@pink', '@mileycyrus', '@jamiemcflyx', '@mynameissasha', '@JonathanRKnight', '@philgerb', '@Cravethought', '@Aw_Re_ya_2_', '@maclovesmusic', '@malenga', '@Kaizersose86', '@lebout', '@Rachel_England', '@TerrenceJ106', '@KhloeKardashian', '@mileycyrus', '@RuthRamirez', '@Rachel2206', '@legacy62', '@Stormlite02', '@Sparkle1980', '@TheSharkLady', '@MCRmuffin', '@pamdemonium', '@Greenwichlad', '@corie_michele', '@stephanspiegel', '@wilw', '@Lauren_Q', '@twitrclectic', '@patyonce', '@marshmollow', '@varyable', '@chittastic', '@lisbethh', '@tiphereth', '@CC_Cassin', '@kylebice', '@jerrybattiste', '@7_of_Nine', '@fivejs', '@cre8tivkj', '@theneener', '@bradley__reid', '@lisaconnell', '@Red_Dust', '@MakeupBag', '@marinadepp', '@pauljholden', '@anniemacdj', '@IndraIrwan', '@Capcom_Unity', '@Stefni127', '@Dani_H', '@XGraceStAcKX', '@ajmennuti', '@BoobiKitti', '@janw75', '@Emmetjuh', '@TaliyAllTimeLow', '@DestinyHope92', '@welcometogower', '@alarmvsme', '@Nancecy', '@CokieTheCat', '@roundgoldfish1', '@MommaSalty', '@lilcdawg', '@grahamwgreen', '@thebrianposehn', '@keeptheheat', '@scottfaithfull', '@giblahoj', '@work', '@M0t0rBreath', '@SongzYuuup', '@DarkUFO', '@julianne79', '@nickgotskillz', '@Alchey', '@treadonmydreams', '@sweetney', '@itsgabbith', '@agingbackwards', '@AnnA_BaMbiNa', '@Olliez0r', '@Siruveru', '@inez_13', '@Guerrillas', '@danni_jones', '@heyheyybonaaann', '@apauley88', '@thealaskanking', '@THEmandymoore', '@irgxana', '@rhetthislop', '@synisterchyck', '@calebgardner', '@Open_Book', '@plaintruthiness', '@kurn', '@AkankshaGoel', '@sreenet', '@_writersblock_', '@totzhatz', '@gypsyhippie', '@savorthethyme', '@tommcfly', '@LauralKGW', '@raaaaaaek', '@taylormosher', '@heeeyshelby', '@tariza', '@monsoonsmangoes', '@krist0ph3r', '@neekel', '@soni_slaps_hoes', '@joannesmedley', '@JRKLOVER', '@xscarletmx', '@radmama', '@HzNKzM', '@robangus', '@Jared_M', '@joyfirestar', '@Zonoma', '@SleepTightTiger', '@kiddshow', '@Jonin60seconds', '@TheEllenShow', '@futuredirected', '@TehKimber', '@shansgrl', '@libertygirl3', '@peterdemarco', '@iiLoveJBxOx', '@rockahunny', '@foiledcupcakes', '@KWAMEDIDIT', '@astynes', '@PrinceSammie', '@LucyFurLeaps', '@cityzen28', '@jeffreecuntstar', '@twilightfan023', '@carolermp', '@jodiluvsjordank', '@mileycyrus', '@angiekayz', '@Mamasaywhat', '@maryelleuh', '@Winky_Cutto', '@Nessie_Jake', '@ShedaBeda', '@freshypanda', '@TroyStith', '@daveexplosm', '@tifftiff621', '@iJessicaSimpson', '@FadyAnwar', '@JoeyMcIntyre', '@JinnyBoy', '@Betheaeroplane', '@jackiedalia', '@djdeks', '@LonoSG', '@TickleMeJoey', '@tinytim2701', '@gregjames', '@zane', '@yagsfan', '@RCSAustin', '@whitneyblair030', '@CourtneyCamilla', '@Mastr0', '@MissSimone32', '@SongzYuuup', '@arctic_penguin', '@lorrainapaz', '@somemaysay', '@BamTheDJ', '@chris_mccallum', '@alojane', '@dannymcfly', '@jason_mraz', '@bckwild', '@ashleytisdale', '@Mark_Sheldon', '@Wallfish', '@cjlenoil', '@TigerMarketing', '@maduck', '@yasexy', '@musicbykg', '@ijustmightendit', '@songzyuuup', '@atebits', '@tomtravel2', '@sydbob', '@skyblues4eva', '@itsConsiderate', '@mitchelmusso', '@stacey79', '@hagackure', '@twidroid', '@julibarcelona', '@romylovesmcfly', '@kamscottxxx', '@ReporterRen', '@danipoynterjudd', '@concerts09', '@G0', '@tabat', '@Oberhauser', '@denfree268', '@jphatala', '@katecollinsnyc', '@twashley', '@Gabelicious', '@ActionLamb', '@WayneDaStar', '@ViperScot', '@zetas', '@JacksonWages', '@action_jay', '@TuxOtaku', '@JackAwful', '@MCal27', '@drandolph', '@Im_X1', '@sarahmaq', '@jpstg', '@beingnobody', '@patrickaxe', '@musiclover37209', '@Ivez', '@cipriani15', '@hobbs', '@drealoveslife', '@OfayDevil', '@Masiosare', '@sacharules', '@ManxStef', '@ProgramX', '@paulmwatson', '@smosh', '@LostArtOfMurder', '@Dannii_x3', '@sarahdessen', '@mclamb4life2', '@Savorysweetlife', '@BouchonFor2', '@peschkaj', '@rickyambury', '@ubershmoo', '@kel7alpha', '@JessClarke', '@peterfacinelli', '@kellyprovence', '@phillygoat', '@KGyall', '@SoloRunner', '@DJMiles_LIVE105', '@lirael', '@rebeccao372', '@phatfffat', '@charltonbrooker', '@gina_pina_14', '@aristeia', '@theOlsens', '@provokecreative', '@LaBela22', '@AsamAhmad', '@Abbie12', '@Hilldeshaun', '@chiinarr', '@endorphite', '@wishwishwish', '@BrightGirl', '@KeithMelton99', '@markhoppus', '@Khaldounj', '@tommcfly', '@JonasAustralia', '@yelyahwilliams', '@JoelyAh', '@spencermckinney', '@jrfan8', '@ted9k', '@doingwork', '@TessMorris', '@bytera', '@bobbyllew', '@AnarborMike', '@breagrant', '@JasonHolder', '@TomFelton', '@petewentz', '@Daein', '@Lisaclfc', '@msdivamom', '@MsMandz', '@MooChow', '@akwatkins', '@O2', '@SeekingPlumb', '@xstaticstacey', '@ellljayy', '@kicobra', '@XThe_Happy_EmoX', '@AJRoxMyWhiteSox', '@ChristieRessel', '@lesleypomeroy', '@chuckatwork', '@KiranKhanzada', '@Lollipopins', '@greggrunberg', '@elazar', '@PalStall', '@LadyMinista', '@tj0830', '@elainerogers', '@thisreal4ever', '@xoxoHelenHilton', '@CocaBeenSlinky', '@Rissa545', '@MODwife', '@run4kelly', '@DotSauce', '@laughscreamsing', '@Boice1061', '@coy0te', '@MacGuffen', '@littlehallie', '@ViewFromMySeats', '@Patty_B', '@ashleymarieduh', '@iMoose', '@dannygokey', '@ScottWesterfeld', '@beverleycuddy', '@knappkd', '@sophiakills', '@Suge_13', '@arjbarker', '@JonathanRKnight', '@CheekiThaSinger', '@BlueSurrfer', '@heyyitskate', '@SarahAnnGreen', '@selenagomez', '@IAMtheCOMMODORE', '@xo_rainbowbrite', '@MeetNiroim', '@kelvineyers', '@PLabyorteaux', '@iamsneezy', '@98RockNITB', '@mandelion2', '@HypeDaGreat', '@CurtCosmic', '@shewasyar', '@aimeenbarnes', '@paganmama', '@YaGirlDWoods', '@_shanika_', '@JaySkillz', '@shadcharleston', '@signingmom', '@OweeW', '@davidlimonline', '@songzyuuup', '@stepheezy', '@kPorcalla', '@skweeds', '@dirkjohnson', '@renukarajadurai', '@jessikasay', '@BonedaddyKing', '@cocoward', '@jaymc123', '@GeorgiieLu', '@JasonCecrle', '@Claire_Cordon', '@Joan_Rivers', '@soulpoetrysite', '@diana_music', '@dot12b', '@mizrik', '@kristenstewart9', '@NovaleeDMB', '@crucify_brett', '@Goodness500', '@AtlantisJackson', '@dawnrigby', '@kathyireland', '@godlessgirl', '@xo_mcflyandjb', '@MicheBel', '@TwistedTamsyn', '@tomsmithmcse', '@briaaaa', '@simonech', '@MAbeo', '@tarswebb', '@kreeshaturner', '@mandyblake', '@DevonMarie78', '@moiswashere', '@Raptastic', '@VadimPhoto', '@xcspeed', '@Lastoadri', '@kenziegrl3', '@VH1Hoopz', '@timheidecker', '@Charlene_Kelley', '@jubr', '@DigiScrap09', '@rwiggumrules', '@umasswmr', '@WeTheTRAVIS', '@britlove', '@Rob_Hoffman', '@yaneri', '@hoyle1337', '@shira467', '@richardfrank', '@Sammie_b23', '@MadiRigh', '@ddublover', '@siana_mia', '@bytor2112', '@CityGirl912', '@Bao_', '@misspentlife', '@VivaLaAden', '@DirkSonguer', '@cyclingamericas', '@accordingtothem', '@Real_DavidCook', '@leesasaur', '@pslovenpink', '@foreverivy', '@sylviegreen69', '@JessesHunting', '@ddlovato', '@bob_edwards', '@questlove', '@dapacheco', '@jordanknight', '@BertHofstede', '@hash_obama', '@rcpmelissa', '@SongzYuuup', '@swmchic', '@Apriori_Beauty', '@EmilyyBrowningg', '@steffenjason', '@brucewez', '@seaby', '@missjo_ladie', '@1938media', '@BobGrrl', '@howlieT', '@PrincessArchie', '@RamaDimas', '@selmgomez', '@norcalwine', '@rafatux', '@RenateBeate', '@Haylz2329', '@becs09', '@AlexOrman1', '@hester1992', '@whiterabbit00', '@WubsNet', '@BingFutch', '@moonsoar', '@jamie_oliver', '@SuzeMuse', '@charro23', '@mileycyrus', '@bawrie', '@TNAaddicted', '@Dublins98Dave', '@pitchforkred', '@LesleyChang', '@bmaynorx3', '@JonathanRKnight', '@AshJolliffe', '@xclusivebby', '@mikael11', '@martial17artist', '@GlennaBean', '@lannydoodle', '@NevershoutAZIAH', '@twiquarius', '@ohsuperheroine', '@anothersaturday', '@dougiemcfly', '@TheEllenShow', '@AspaPhoto', '@JonathanRKnight', '@MISSxSONYA', '@OriginalGata', '@hekissedmyhand', '@leeboardman', '@mariefayandre', '@mileycyrus', '@Debbas', '@MCRmuffin', '@contactnaveen', '@TeamHate', '@littleradge', '@demoness2009', '@BlizzardSkies', '@MariahCarey', '@missladyswd', '@BumbleBeeBree', '@conquerofawesom', '@notoriousflirt', '@theadamlambert', '@itsnikki', '@LetMyPrideBe', '@zefamedia', '@carmabella', '@minx100', '@zara4eva', '@mediacat1978', '@hol234', '@jemcam', '@TheRealCeaza7', '@thomasfiss', '@LanceSmithShow', '@carinafox5', '@idolscott', '@vecordy', '@tamapalace', '@nycgrl88', '@AshBashOneOnly', '@mrstephens85', '@mishacollins', '@oprah', '@smitch2008', '@jeffmello', '@mommab63', '@lyyyl', '@Bahamabob', '@mUsIc4eVeR323', '@thc1972', '@redchinese19', '@whisenhunt', '@SukebeUchujin', '@Ammouni', '@Emilystweet', '@MarkRosenbauer', '@demivenom', '@sapphire_city', '@00mony00', '@Bnice910', '@brianhahn', '@TerilynnS', '@lisa_otto', '@mobidextrous', '@ILikeBubbles', '@NatMcB78', '@lilyginny27', '@discoballs', '@jofstar', '@bwsteam', '@WaltWard3', '@Octostone', '@marisolmercedes', '@MyGoldenchild17', '@DazzleMeThis', '@shamileemac', '@yulianasari', '@MonchaiNOW', '@xxItsDaniellexx', '@mikecarden', '@BaileyCardno_', '@theothermousie', '@marjamma', '@TreyPeezy', '@confessing7girl', '@pbarber00', '@marcod1419', '@sunrisesister', '@Apollonia_316', '@natalie_mrls', '@sutured', '@pauly', '@hairbrained', '@josheddy', '@coliwilso', '@gabe138', '@the_chaser_', '@JovileiAnn', '@cinerary', '@stephpangjaya', '@Freqnc', '@namenick', '@jencummins16', '@TheDavidBlaise', '@psychemedia', '@JLSegarra', '@DivinaE', '@serkes', '@ndmLA', '@_ces_', '@Jeff_isChill', '@RakeshAgrawal', '@NelldaMYLF', '@divatheriva', '@QUEENQUELLY', '@iJanette', '@Luv_ChelseaFC', '@MyDetention', '@libbywalsh', '@ToniKaras', '@billyraycyrus', '@toothsoup', '@djvictorsalazar', '@nooneai', '@yourmamaknows', '@jonri_05', '@Honky101', '@chloebli', '@Trace027', '@wokeupinrayn', '@slanoue', '@nolanreiten', '@onefullyear', '@wearebirds', '@DJPhoenix', '@Mcpattz', '@Rach_Michelle', '@michellelynn69', '@MariahCarey', '@VernonGarrett', '@yourproxycomm', '@Slip_n_Slide', '@LJBoldyrev', '@PrettySprinkles', '@dance2jeffreee', '@JustinofG4P', '@ramielemalubay', '@courtskies', '@cmaecy', '@nareejo', '@shapeshealth', '@MonikinhaMS', '@_NeTTz_', '@agkicks', '@lisa_storm', '@nikimontazaran', '@tricitieschamb', '@TimelordSimone', '@cpearson1990', '@heywidya', '@CourtneySit', '@rockeye', '@jasmika', '@boborama', '@Jenny__Kim', '@calisummer', '@LisaMurray', '@AJanay7', '@BecaBear', '@HallCountyGA', '@BadSuperhero', '@geegatessxoh', '@willfrancis', '@howie_d', '@VirtualStudios', '@jeorgina', '@chrisandcaleb', '@redguitarfreak', '@emmysue20', '@ziggie1321', '@ginader', '@donAlvar', '@drunkengeebee', '@swags0trendee', '@daysdifference', '@EbonyIntuition', '@torehtard', '@cooleycakeface', '@Suai', '@joe4pixelworks', '@vicbeezy', '@nikkithebee', '@hollie__', '@gazzj27', '@nnardelli', '@tamihackbarth', '@valerierenee', '@rikkilazao', '@ninoushka', '@nathanryder', '@emjaystar', '@Jeth2DaRow', '@dreamluverz', '@kirstiealley', '@Zarrabis', '@hiteshmehta', '@kathbambo', '@marktheescape', '@bradiewebbstack', '@alexsheppard', '@Skeggylady', '@simone93', '@2fly2Bking', '@Ryler', '@missmass', '@pia_dysangco', '@nhoustonreed', '@cameronreilly', '@fureousangel', '@Mum_of_Six', '@BellaB4510', '@MillZz', '@soulsupreme', '@mileycyrus', '@Jonasbrothers', '@cwtch', '@sShap', '@mishacollins', '@samanthablews', '@mossyrants', '@JustinMGaston', '@TheNamesBlunt', '@DavidArchie', '@zarkinfrood', '@migsmusiclover', '@DonnieWahlberg', '@tanya_Jolene', '@thisislivestyle', '@calire', '@mugglemama', '@vuzzello', '@Babbano', '@ram8727', '@arabidopsis', '@bubb1e5', '@sissyto4', '@LaurieBailey', '@storyfan', '@wyeh32', '@kpamintuan', '@vprincess', '@cheapcheapcheap', '@CallKidsKrazy', '@robdyrdek', '@robwatts', '@ohiowa', '@fiesty32', '@craigsutton', '@SteveBrunton', '@gabysslave', '@crazytwism', '@omdyukkjtfxj', '@andyclemmensen', '@mcraddictal', '@sh8dytel', '@Bronques', '@SoldierKnowBest', '@Agent_M', '@Astronick', '@zacharyxbinks', '@babygirlparis', '@missjeffreestar', '@TheGlitchmaster', '@memoriesbymicha', '@shelzuluaga', '@gregjames', '@cupcake2643', '@downhouse', '@66Keelan61', '@teemwilliams', '@mcflyharry', '@ascordellis', '@nycala', '@whitpetey', '@bacieabbracci', '@shiftywooten', '@polarna10', '@dzys', '@JonesBeach_1988', '@webaddict', '@Dannymcfly', '@MiriamCheah', '@shymissez', '@xdahlia', '@Bob_do', '@JadeIsla', '@BendyWalker', '@MisterNoodle', '@khali_blache', '@tommcfly', '@ItsIan', '@Adrienne_Bailon', '@dmclain55', '@David_Weaver', '@sandysaikman', '@vinifico', '@Esme_Cullen23', '@theodorainish', '@S_Wash', '@knittingknots', '@MsrnbJazz', '@simplyshannon', '@reemerband', '@HAM_DIGGS', '@angieelenis', '@pnay', '@rustyrockets', '@micheleeeex', '@ozdj', '@verity_lola', '@PeterM11', '@jaleesaja', '@rafaqat', '@XChadballX', '@Romeothecat', '@thebiglib', '@jasontancy', '@_xbianca', '@RODDYBOTTUM', '@nickyjames', '@LeosGifted1', '@msallied', '@erika_gerdemark', '@RecoverHealth', '@savagestar', '@SmashMe_EraseMe', '@NathanFillion', '@chrishasboobs', '@aprealbrooke', '@doubleickey', '@kerryberry', '@brooklynblack', '@suaveguy321', '@doctorpancreas', '@drwiz', '@Jah423', '@bobshrunkle', '@JessiWithoutYou', '@Anansha', '@janjohannesson', '@jonbon88', '@EQFacebookGRP', '@Aubreeeey', '@mxbx', '@julia062', '@SharenWatson', '@onicajay', '@irishdeafkids', '@PhantomsAreLame', '@Jerzygrllys', '@technicalfault', '@ramrod_newell', '@MaryKunzGoldman', '@sicklittlefox', '@thsteininger', '@joanpatrick', '@lucypope', '@infiniteemily', '@Cathvontrapp', '@ranga91', '@bigwormy', '@joe_hill', '@Pazzafied', '@promedia', '@jennieaguirre', '@SecretLifeFAN22', '@Cuddlebum', '@joshuamarch', '@SexyKellyC', '@Lady_Twitster', '@jessebarrera', '@tchapman85', '@thelarssan', '@JMC_Ministries', '@mydarlingemma', '@Honest_bAbe', '@lolbethie', '@djalizay', '@1_50_1', '@niteguardianx', '@dannidanishyo', '@R2E2', '@mikap', '@kelliv86', '@Nelawish', '@suckahpunch', '@sarahbelle93', '@jordandaly', '@clairemsp', '@jessilynn15', '@b_club', '@BJGotNext', '@chelmarie1969', '@tommcfly', '@newt0', '@the', '@sophielynette', '@Marshalus', '@franserraga', '@LiliCosic', '@heatworld', '@DSushee', '@karamarzilli', '@danielskowalski', '@LincolnBuff2', '@catharsiss', '@jasminelynn88', '@mmitchelldaviss', '@MarleeMatlin', '@xoxoroxyxoxo', '@falloutkid07', '@CCTjoh', '@Nileyroxs567', '@animalhouse4384', '@paolotarray', '@jmstewart0220', '@xbby_01', '@angl66', '@MeHeyLa', '@mikecane', '@Behemothjc', '@jknowtruth', '@daisymoonstars', '@mileycyrus', '@GrandmaSheila', '@ranggrol', '@csquare6', '@MaryWebbJones', '@4dams', '@rod76', '@becnewman', '@trekkie23', '@beckyp234', '@shimmylicious', '@shockhorror_x', '@mileycyrus', '@RattPakkRush', '@gulpanag', '@keza34', '@GayleChance', '@NaomiL413', '@stonewallers', '@CartoonAndrew', '@MeLaMachinko', '@luishandshake', '@PlayRadioPlay', '@TheSourceress', '@mel0d', '@GuitarDragon', '@Kitkatz91', '@lizwoolly', '@1045CHUMFM', '@catfuel', '@sweet_charlotte', '@MisterRo', '@greatfitness', '@brown_chocolate', '@tyrstag', '@mattdw', '@sedonadreammakr', '@bananabby', '@QueenSapphyre', '@Rissa545', '@DOOMSlay', '@danieleazar', '@moiswashere', '@jimmyfallon', '@Sjusovaren', '@alsoknownaskels', '@Hyperopia', '@beautiful909', '@kimkardsashian', '@LadyFiveStar', '@AdamSinger', '@BLASTINGaDOOKIE', '@shakes1327', '@PatrickCourtney', '@SempraFi', '@JeremyDempster', '@PheMom', '@katemeadows', '@MamaAnna', '@DonnieWahlberg', '@NKOTB', '@Ichsi', '@alzaidy', '@AliciaWag', '@Jonasbrothers', '@BTCare', '@Stefanieex0', '@ramielemalubay', '@laughingyogini', '@suspiciousminds', '@firebuilt', '@zack_addy', '@All_Habs', '@erinhere', '@boxxybabee', '@lilyjang', '@BHOTaileprompt', '@HosamKamel', '@OneSeasonMLB', '@BlizzardSkies', '@DrShagwell', '@anca_foster', '@twilightchill', '@aussie_mateLC', '@basundra', '@dannywood', '@Maddieque', '@michellecorona', '@mccato', '@melissa_15678', '@mondgutierrez', '@DADONWOOGZ', '@nessie111', '@hene57', '@bethlayne', '@sweetmexicangal', '@vkgoeswild', '@supervann', '@thebraysmommy', '@insidebooks', '@Oxfordfilmfreak', '@itschristablack', '@CAGoodbred', '@PDXsays', '@zocore', '@sheis_sohood', '@SandySweetness', '@mommapuff', '@kimboyee', '@kreativeham', '@dougiemcfly', '@DaviddjFrancis', '@uricahh', '@dannywood', '@foxybimbo', '@annyo84', '@kantashi', '@jayde_nicole', '@miriamstaley', '@KeepItHandy', '@rajacenna', '@masond7', '@teetee_71', '@ShaunHailes', '@sugarassaultme', '@badbadgirlx', '@amypricex', '@Dren_Ramone', '@helenrampling', '@ShelleyStudioS', '@justashley', '@R_SK', '@allisonpalmer', '@stephenperry', '@jimmycarr', '@sarahjclark', '@TequilaNef', '@GeeEasy', '@roxannegregorio', '@BoSoxCutie19', '@bitchinmona', '@shelley1005', '@GeekWearsPrada', '@thebestofhands', '@ShelliMayfield', '@LuvMyFeline', '@wearetheredsox', '@matthewsheppard', '@s0nglyrics', '@BittenbyBooks', '@NYCityMama', '@jaime_La', '@GayleTrent', '@OnlyOneFantasy', '@britaiin', '@rfargnoli', '@guylikeu', '@miss_patooty', '@pharobcool', '@insomniatichbee', '@N0odles', '@sweetteach81', '@mileycyrus', '@harveymilk', '@njrugger45', '@gregs', '@eddidit', '@boblivious', '@harryhayphl', '@aikiverse', '@josefamanriquez', '@flowersbyfarha', '@rcaplice', '@artistaday', '@babeeshark', '@gofoboRSVPCodes', '@therealpickler', '@toastcommunism', '@annaaralar', '@deadlyhouses', '@jangelo', '@ihsanamin', '@Katchin05', '@james__buckley', '@catenalady', '@talkaboutluck', '@TheDaniater', '@LovinJJ', '@Gemmaz_', '@a_willow', '@rukshanw', '@caitlinharvie', '@cathylando', '@majornelson', '@greggarbo', '@Knicksmets', '@Salehh', '@bs', '@addi', '@Cynnergies', '@stmss', '@amylovegrove', '@anissapramudita', '@scb4vp', '@_supernatural_', '@Love_JoBros_', '@RyanAkaIMTF', '@sarabethxvx', '@natty_xxx', '@jeweljk', '@1ClassEdiva', '@esaevian', '@ThatDudeDeon', '@DYNASTYLA24', '@Fuzzbutt_Towers', '@MrPromee', '@spygun', '@caffeinebomb', '@Chettahman', '@MTVwebmaster', '@adamrawsonbrown', '@NightShiftNurse', '@kinderlola', '@nick_carter', '@summersteam', '@mileycyrus', '@willflowers', '@NathanFillion', '@susieqtpie', '@mallorygallery', '@subbspy', '@kieronjames', '@prestonlowe', '@stuartwhitman', '@AimanE2I', '@NASA', '@britesprite', '@lollipopvomit', '@moanyboot', '@pinkrebunny', '@Billy_Boy', '@PrincessTabs', '@lewisking', '@AriaaJaeger', '@4everBrandy', '@PhilRossi', '@indeuppal', '@ashleytisdale', '@beyondbeeton', '@IsaboKelly', '@MARZ2112', '@Laird_attwood', '@rkuang', '@johnhood', '@SheWillCutUDry', '@triplepatte', '@BigBlackDogs', '@MacZombieRawr', '@pibby', '@razzamatazz87', '@chielless', '@almcheese', '@alyshachandra', '@stephenpope', '@icednyior', '@becomingrachel', '@ShaneBryan', '@djwoolley719', '@Amandalee55', '@djadam12', '@WiiGee', '@rucha_334', '@LuckyRivera', '@slmoore', '@bowwow614', '@MouseisTheWal', '@kerrylouisexxx', '@paigearcher', '@_Janell_', '@squishymatter', '@isacullen', '@Dichenlachman', '@mileycyrus', '@rustyrockets', '@kylieeann', '@mileycyrus', '@Daily_Pinch', '@coldplay', '@stluciangirly', '@Nataliee_xo_', '@LittleLumen', '@kiwinut', '@littlebites', '@LucasLubin', '@cassiidy', '@Fearnecotton', '@Meeps625', '@megapixel', '@itsNICKJONAS', '@chefrosebud', '@Schofe', '@That_Girl_Jenn', '@kweenie', '@tweetpeete', '@tweetpeete', '@anonymoustom', '@GameHounds', '@MaryGoonGirl', '@Sindy56', '@just_tam21', '@Kath1213', '@PaulAros', '@jamesmachan', '@jamieworley', '@ecoblips', '@mintty_cygwin', '@illuzion11', '@kermitbox', '@yoimajunkie', '@peytonluvsjoe', '@davrs', '@ripcity52', '@molliebatmit', '@IrenieFiasco', '@UgottaloveIndi', '@RockOn24', '@DisneyForChange', '@delilahmarie89', '@kygor', '@Emerarudo', '@davidoreilly', '@danielhunt', '@msstewart', '@jonbecker', '@katherinemorris', '@myliverandlungs', '@Petergra', '@Rozes9495', '@Wossy', '@bduckles', '@arm_candy', '@tweet_genius', '@boygenius', '@ashleyshakesit', '@meganbarry', '@cripchick700', '@IASAir', '@alexytlee', '@FooFoo_McKinley', '@rebeccaberg', '@EllieMatthewson', '@BigBearrG', '@gewg', '@secretvalley', '@WerewolfSeth', '@leesh_mnc', '@fckwhtyaheard', '@joolzp1', '@J_Schools', '@jasonjordan', '@half_a_life', '@Collin_wolfboy', '@endless_murmur', '@Ev_Bek', '@padacklesjjam', '@PinchMySalt', '@mark_till', '@beckie0', '@vranac', '@IlanBr', '@simoncurtis', '@WirelessRage', '@entershikari', '@jferman', '@jesse_la', '@LittleFletcher', '@gfalcone601', '@Keljem', '@lactose1984', '@JoeyMartelli', '@DarrinStaloch', '@weelissa', '@Glinner', '@JerryBroughton', '@LevnUMesmerized', '@myucan91', '@xirclebox', '@txbrowneyes20', '@KidLPN', '@xHelloCallie', '@proconcert', '@likeSunday', '@YoungQ', '@Iamlegend01', '@Mrs_McFox', '@rapTJIs', '@MissAnneLie', '@meganmcdonald', '@tommcfly', '@JonathanRKnight', '@karahleigh', '@BAYBAYBAYvh1', '@mileycyrus', '@ForBeatlesFans', '@aplusk', '@Travelpilot', '@ShamelessAngel', '@Kaoness', '@Javamomma', '@MayorOfLondon', '@kaaatieexlee', '@Jonasbrothers', '@amber_benson', '@JennaRaeLove', '@srvp', '@mslaurenlondon', '@tinaodarby', '@10pm', '@louieevol', '@TokiHo', '@LiZAmtl', '@nicolerichie', '@rerkaizen', '@tubilino', '@TeekDaFreekCxC', '@j_draper', '@bencusick92', '@kasiafink', '@argyle_socks', '@zimnla', '@MMiddleton', '@PINBOARDblog', '@lovekikiii', '@hansonmusic', '@fashionchalet', '@tommcfly', '@firesty', '@ceoltoir', '@619WriterScript', '@klstewart', '@Fulmer', '@mizzdangerous', '@rhettroberts', '@treacherousd', '@ChasityRomero', '@trswift', '@annwhit', '@Levigato', '@georgefiddler', '@Dannymcfly', '@AnnElizabeth84', '@Mobbster3000', '@jenwells', '@swgapolitics', '@bendaubney', '@primeroguero', '@dannsimmons', '@aristotlemusic', '@mcflyboards', '@candacecbure', '@marcomr', '@MelissainPhx', '@smlimon', '@MIZZVEGAS', '@essebee1', '@MrsMcFlyGrimmy', '@phoenixpwns', '@fifleaona', '@aNorthernSoul', '@gizelleramos', '@mikebutcher', '@Alexmetric', '@bytterflykissx2', '@CommunityCoffee', '@jamie_oliver', '@meryreino', '@crashypoo', '@jenisecook', '@articulatebrian', '@moonfall', '@screamo_ranger', '@hairdryer', '@SherineGamal', '@iheartbeans', '@SooSpecial', '@thatoneguy', '@arnoldkim', '@DebbieFletcher', '@Pookthy', '@HeyPaisley', '@MeggieMouse', '@danmattia', '@B_Barnett', '@Dezz_MCR', '@gheelovesyou', '@Mickie_1', '@kirstiealley', '@Joseph0604', '@pamderamus', '@MakikiGirl', '@erikaengle', '@hannahfaulkes', '@SCIFI_channel', '@Dunkndisorderly', '@karleigh', '@PDAonline', '@RetroRewind', '@bifferlicious', '@Claire_Cordon', '@ChrisVanPatten', '@Smil3z_GQ', '@DiversityBGT', '@GreenEyedJessie', '@littlefishey', '@Pinksandi', '@nicbrewer', '@Darealamberrose', '@cookiethief3', '@dfizzy', '@cocolee117', '@mileycyrus', '@4ChristinaRenee', '@k_love032705', '@fagunbhavsar', '@catcarr1', '@IanRobinson', '@dannywood', '@LegalIvy', '@mystical_maz', '@NoahBond', '@squarespace', '@leticiaah', '@heavesighs', '@AlliD', '@andysowards', '@zoziekins', '@vendorprisey', '@Kia_S', '@scrape6o8', '@gerdiend', '@westerkerk', '@Lemonpi', '@chasingphoto', '@chrispallett', '@twitsaver', '@iKiller4', '@DavidArchie', '@twistmag', '@mmsa', '@CritiktheDj', '@DanSiego', '@Heajer_aka_Jouu', '@shartlesville', '@beccalovesbooks', '@ngowers', '@crazyfirebolt', '@nlupus', '@Swineshead', '@DazzleMeThis', '@BlueInDaUK', '@Jurate', '@WayneRobinson', '@nickswisher', '@cc_sabathia', '@kel_mul', '@martinamcbride', '@muffin_loser', '@MickCornett', '@explodedsoda', '@shahidkapoor', '@leeadi', '@KimScriven', '@ash_wash', '@mawbooks', '@jodymal', '@paigeclay', '@sillett', '@uberproject', '@levelsmc', '@h0wReYa', '@lizp02x', '@djspanky', '@sunshinerocker', '@freelancerant', '@kuwxlady125', '@RattieLovers', '@LisaWorld', '@doreenatdms', '@ttimechitchat', '@pi', '@PaulieCooks', '@draganababy', '@cleaninggirl', '@dawn_armfield', '@JennaLeighT', '@TinaLaRoo', '@allabtanimation', '@tedmurphy', '@HesTheItBoy', '@JammedHands', '@TheHollyJohnson', '@Maynardcomau', '@hanshillen', '@roxerally', '@myinnersexygirl', '@MarPart67', '@techconclave', '@zackalltimelow', '@_supernatural_', '@ashleymoran', '@MartianLove', '@williammm', '@dougiwmcfly', '@GoodTimesAreGon', '@tennisetviola', '@mynameisforge', '@pfspleen', '@OriginalOG', '@surferbabe_', '@Jessimikaaaa', '@ddlovato', '@RobinLeaf', '@umahameed', '@lisamariemary', '@REMEMBERMENINAB', '@SarahSaner', '@mad_dancer', '@seemouserun', '@CinDaily', '@webaddict', '@MmmBennodaCock', '@xoxo_sa', '@bertadp', '@MrsRRC', '@ChargerJenn', '@TallWASP', '@tommcfly', '@sandrarzo1', '@renu19', '@jenifel', '@ItsNeet', '@mmitchelldaviss', '@iamdiddy', '@tanisharenee08', '@zayman3', '@BLEVisthename', '@Zaga', '@dkris', '@SuperUber7', '@allenbenjamin', '@radioplay', '@ashdonaldson', '@sophystar', '@huwstephens', '@Mahogany85', '@dexterouslady', '@Dekkerd509', '@steveplunkett', '@SaschaIllyvich', '@themacgirl', '@CarMaKi', '@HCCMorrisville', '@CatRocketship', '@Lisaherrity', '@Julio_N', '@MissPear', '@_lucy_joy', '@MazzieZ', '@dragonflylsu', '@jasmine_pie', '@markhundley', '@DCLew2', '@ToddBrink', '@theLindaLam', '@_rolando', '@freakgoddess', '@iamrockpit', '@davidgallant', '@Assante', '@lovedwoman', '@indiashawn', '@No_iDehea', '@StanmoreRob', '@TroyMcDonald', '@johncmayer', '@Livintherezlife', '@CrypticZinc', '@chriscornell', '@NancyLeeGrahn', '@veinsworld', '@KingFOE', '@mikemoseng', '@kelownagurl', '@herbonestrcture', '@Sarcasticluther', '@jodieharsh', '@Lovely_London', '@mileycyrus', '@SweetDanigirl', '@Jennlaskey', '@mcrfash1', '@an_other', '@AsiaBrands', '@loonia', '@kswick24', '@dawniecahill', '@ladyshamble', '@Angelbysea', '@emmalina', '@IdleSi', '@pr_mari', '@eBlondie', '@trendscaping', '@Itxi_Itx', '@th3maw', '@PennyAsh', '@Rogue_Leader', '@ExocetAU', '@Silverlines', '@peterfacinelli', '@DavidArchie', '@SherryHorror', '@DanYELLDAMAGED', '@vamp_queen', '@Newps', '@Boogaloo1', '@BlackKat1979', '@ahmedworld', '@cindayy', '@BrianMcnugget', '@barracuda808', '@alkingyouworms', '@zacseif', '@mileycyrus', '@jonasbrothers', '@JoDreAmZnPurpLe', '@mgi88s', '@mommaof4wife2r', '@irishprincess41', '@yourmommasboy', '@mandyremains', '@saraesse', '@aja175', '@buffawhat', '@CaitlinLynn', '@LiveInLove10', '@Autibody', '@ddlovato', '@samchampion', '@Chrissyyyyyyy', '@rehabc', '@adityamishra', '@sherrilynne', '@inkophile', '@KimKardashian', '@timaldiss', '@tinkerbel1013', '@daniweezy', '@snowshoemtn', '@spalongal', '@callimuffin', '@ShonaQ', '@xLittleMissTuki', '@Twitprentice', '@kirstielu', '@juiceegapeach', '@tuesday726', '@kazzba', '@ronsalcedo', '@CreativeSoul', '@MYGameloft', '@AnoopDoggDesai', '@mileycyrus', '@TalAter', '@bgstrowger', '@godlessgirl', '@auburnjones', '@DesiLynnsmom', '@roxibear', '@tpr2', '@JasmineTame', '@kschwalm', '@PrettyPrats', '@krystheilen', '@Jet117', '@twinkle_x', '@Timinator', '@matthew_west', '@subclubloyal', '@PaulKinlan', '@mskninah', '@dylancoyle', '@matthewc', '@gogcom', '@45sInYourEyes', '@DeniseHammock', '@OdaRygh', '@WerewolfLeah', '@casual_intruder', '@shaunmichaelb', '@Bruno108', '@CiaranCuffe', '@IMEDUCATEDNSEXI', '@darthvader', '@HoopinisPassion', '@hexmurda', '@vamp143', '@PearlyWrites', '@lashonp', '@JonasAustralia', '@GoogleJuice', '@leaky_tiki', '@TheBook411', '@Mmerii', '@markhoppus', '@GenderQ', '@twittyamanda', '@RobertMuchamore', '@Echa_Javajazz', '@AldoRisolvo', '@30STMluva', '@ReneeGannon', '@ripcity52', '@steveray', '@soyogi', '@JAYNUNEZ', '@jnassi', '@fromser', '@MistyMontano', '@mrs_radioviolet', '@jbraun430', '@sel113', '@jordanrocksawks', '@theawfultruth', '@joshgroban', '@mj_lindsay', '@theWynk', '@KimKardashian', '@cr8tiveCandy', '@mitchelmusso', '@Secret_Aura', '@zocookie', '@roelani', '@UnderoathBand', '@SuzeOrmanShow', '@JuliatheGinger4', '@ailujulia', '@assos', '@tsarnick', '@mom_07', '@TMTOHD', '@PaterzAttack', '@slowinagoodway', '@3drik', '@lilpeadot', '@Charlysangel', '@nuudz', '@rockonrebelchld', '@Awdio', '@cockpitrocks', '@marisa32686', '@cleftmommy0217', '@Real_Ian_Morris', '@zuleiiS', '@nataliaaa_yo', '@roxiih', '@NeshasAgenda', '@EricLeeUsher', '@jhillstephens', '@beckie0', '@rachael2389', '@aliceadict', '@mallorypike', '@RowLoFo', '@Spindaisy', '@Jennluvs2sing', '@ji_ric', '@iceprincess12', '@ladykillerr', '@TheJetOnTNT', '@ardenkhan', '@Sunshineliron', '@MartyBuckley', '@CalistaFoxBooks', '@xmarksthestott2', '@x3_michelle', '@furrytom', '@JenBrockwell', '@JackAllTimeLow', '@akatoure', '@petewentz', '@piratesswoop', '@staceybug', '@MarDeck', '@fbb420', '@akbar', '@nnete', '@bobbythomas1', '@squarespaceSTFU', '@jimmycostello', '@VirtueMe', '@robbysteroes', '@vinsharma', '@QCityPlayers', '@AceBlack', '@Development01', '@JohnGreenaway', '@nancetron', '@jo_scrawls', '@SheenaSnively', '@AdamandEveWed', '@nickeeeh', '@JennieKitty', '@Andrew_FP', '@luvyaa', '@KCCopyDiva', '@ankita_gaba', '@Shadez', '@Dutchrudder', '@TearlessPoet', '@jenajean', '@nb109', '@Paige1Media', '@AnnaMariaPdT', '@QandQ']\n",
            "total number of usernames is:  2108\n"
          ]
        }
      ]
    },
    {
      "cell_type": "code",
      "source": [
        "#urls\n",
        "\n",
        "\n",
        "total_urls=[]\n",
        "\n",
        "def urls(text):\n",
        "  global total_urls\n",
        "  x5=re.findall(\"?:(?:(http?):\\/\\/)?[\\w/\\-?=%.]+\\.[\\w/\\-&?=%.]+\", text)\n",
        "  total_urls= total_urls +x5\n",
        "\n",
        "for t in tweets:\n",
        "  urls(t)\n",
        "\n",
        "print(\"total urls are:\")\n",
        "print(total_urls)\n",
        "print(\"total number of urls is: \", len(total_urls))\n",
        "\n",
        "# text5=\"http://bit.ly/AEbs3   I can only be sad.  #iranelection http://twitpic.com/4ijt4\"\n",
        "# x5=re.findall(\"(?:(?:http?):\\/\\/)?[\\w/\\-?=%.]+\\.[\\w/\\-&?=%.]+\", text5)\n",
        "# print(x5)"
      ],
      "metadata": {
        "colab": {
          "base_uri": "https://localhost:8080/"
        },
        "id": "tIqCYK03SBQn",
        "outputId": "76173fc4-eeca-4b93-b9b4-e3272d69d257"
      },
      "execution_count": null,
      "outputs": [
        {
          "output_type": "stream",
          "name": "stdout",
          "text": [
            "['http://bit.ly/AEbs3', 'http://twitpic.com/4ijt4']\n"
          ]
        }
      ]
    },
    {
      "cell_type": "code",
      "source": [
        "#no. of tweets\n",
        "\n",
        "#date_str1=\"Fri Jun 05 14:26:50 2009 Sun May 31 00:42:12 2009 Mon Jun 22 13:51:56 2009 Fri May 22 03:27:18 2009\"\n",
        "freq={}\n",
        "x6=re.findall(\"Sun|Mon|Tue|Wed|Thu|Fri|Sat\", date_str)\n",
        "for a6 in x6:\n",
        "  if a6 not in freq:\n",
        "    freq[a6]=1\n",
        "  else:\n",
        "    freq[a6]=freq[a6]+1\n",
        "\n",
        "print(\"The frequency of tweets of each day of the week is as follows:\")\n",
        "for i in freq:\n",
        "  print(i.strip(), \":\", freq[i])\n",
        "\n",
        "# print(freq)"
      ],
      "metadata": {
        "colab": {
          "base_uri": "https://localhost:8080/"
        },
        "id": "pLOG-85IT3zN",
        "outputId": "5216d0be-1e7d-43df-8918-7c2c0af8370b"
      },
      "execution_count": null,
      "outputs": [
        {
          "output_type": "stream",
          "name": "stdout",
          "text": [
            "The frequency of tweets of each day of the week is as follows:\n",
            "Fri : 864\n",
            "Sun : 1328\n",
            "Tue : 286\n",
            "Sat : 417\n",
            "Mon : 872\n",
            "Thu : 221\n",
            "Wed : 299\n"
          ]
        }
      ]
    },
    {
      "cell_type": "code",
      "source": [
        "#no. of occurences total\n",
        "#assumption: case senstitve\n",
        "occur_count=0\n",
        "\n",
        "def word_occur(text, word):\n",
        "  regex = r\"(?=\\b%s\\b)\" % re.escape(word)\n",
        "  arr3=[m.start() for m in re.finditer(regex, text)]\n",
        "  return len(arr3)\n",
        "\n",
        "#word1=\"var\"\n",
        "# text7=\"var variable var variable\"\n",
        "word1=input(\"Enter the word:\")\n",
        "for w in tweets:\n",
        "  occur_count=occur_count+word_occur(w, word1)\n",
        "  \n",
        "print(\"number of occurences of the word is: \", occur_count)\n",
        "\n",
        "# print(arr3)"
      ],
      "metadata": {
        "colab": {
          "base_uri": "https://localhost:8080/"
        },
        "id": "sjboHAcUifSX",
        "outputId": "d3c3d65a-fd40-44c9-c638-328fc0cdf0a6"
      },
      "execution_count": null,
      "outputs": [
        {
          "output_type": "stream",
          "name": "stdout",
          "text": [
            "Enter the word:sleep\n",
            "number of occurences of the word is:  76\n"
          ]
        }
      ]
    },
    {
      "cell_type": "code",
      "source": [
        "#no. of sentences with that word\n",
        "#assumption: case senstitve\n",
        "word2=input(\"enter the word: \")\n",
        "reg= r\"(?=\\b%s\\b)\" % re.escape(word2)\n",
        "count=0\n",
        "\n",
        "for a7 in total_sen:\n",
        "  if re.search(reg, a7):\n",
        "    count=count+1\n",
        "\n",
        "print(\"total number of sentences containing that word is: \", count)\n",
        "\n",
        "# arr4=[' mr. the', 'aww..', 'watching the MV 1.5 of', '!!!', 'White h.h horse by ??', 'Taylor Swift.', 'watching the whatevry']\n"
      ],
      "metadata": {
        "colab": {
          "base_uri": "https://localhost:8080/"
        },
        "id": "mguQ4z0zlyvM",
        "outputId": "d2a705ee-8ab6-4e6b-d24b-2cb18270fb9f"
      },
      "execution_count": null,
      "outputs": [
        {
          "output_type": "stream",
          "name": "stdout",
          "text": [
            "enter the word: sleep\n",
            "total number of sentences containing that word is:  76\n"
          ]
        }
      ]
    },
    {
      "cell_type": "code",
      "source": [
        "#no. of sentences starting with the given word\n",
        "#assumption: case senstitve\n",
        "count2=0\n",
        "word3=input(\"enter the word: \")\n",
        "#word3=\"his\"\n",
        "# arr5=[' mr. the his', 'aww..', 'watching his the MV 1.5 of', '!!!', 'his White h.h horse by ??', 'his Taylor Swift.', 'watching the whatevry']\n",
        "reg2=r\"\\A%s\" % re.escape(word3)\n",
        "for a8 in total_sen:\n",
        "  if re.search(reg2, a8):\n",
        "    count2=count2+1\n",
        "\n",
        "print(\"total number of sentences starting with that word is: \", count2)"
      ],
      "metadata": {
        "colab": {
          "base_uri": "https://localhost:8080/"
        },
        "id": "BIJCYAogmxpd",
        "outputId": "8a38cabc-252d-4ad2-d5c3-0eb463e7e00a"
      },
      "execution_count": null,
      "outputs": [
        {
          "output_type": "stream",
          "name": "stdout",
          "text": [
            "enter the word: slee\n",
            "total number of sentences starting with that word is:  4\n"
          ]
        }
      ]
    },
    {
      "cell_type": "code",
      "source": [
        "#no. of sentences ending with the given word\n",
        "#assumption: case senstitve\n",
        "\n",
        "count3=0\n",
        "#word4=\"her\"\n",
        "word4=input(\"enter the word: \")\n",
        "# arr6=[' mr. the', 'aww.. her', 'watching the MV 1.5 ofher ', '!!!her', 'his White h.h horse by ??', 'his Taylor Swift.', 'watching the whatevry']\n",
        "reg3=r\"%s[\\.?!]?\\Z\" % re.escape(word4)\n",
        "for a9 in total_sen:\n",
        "  if re.search(reg3, a9):\n",
        "    count3=count3+1\n",
        "\n",
        "print(\"total number of sentences ending with that word is: \", count3)"
      ],
      "metadata": {
        "colab": {
          "base_uri": "https://localhost:8080/"
        },
        "id": "FqSQr-Hkn99S",
        "outputId": "469d2664-240f-4b65-e605-acb930ceb9f3"
      },
      "execution_count": null,
      "outputs": [
        {
          "output_type": "stream",
          "name": "stdout",
          "text": [
            "enter the word: break\n",
            "total number of sentences ending with that word is:  2\n"
          ]
        }
      ]
    }
  ]
}